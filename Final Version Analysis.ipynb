{
 "cells": [
  {
   "cell_type": "code",
   "execution_count": 1,
   "id": "a4498509",
   "metadata": {},
   "outputs": [
    {
     "name": "stdout",
     "output_type": "stream",
     "text": [
      "Requirement already satisfied: gender-guesser in /Users/prakshal/opt/anaconda3/lib/python3.8/site-packages (0.4.0)\n",
      "Requirement already satisfied: nameparser in /Users/prakshal/opt/anaconda3/lib/python3.8/site-packages (1.0.6)\n",
      "Requirement already satisfied: text2emotion in /Users/prakshal/opt/anaconda3/lib/python3.8/site-packages (0.0.5)\n",
      "Requirement already satisfied: nltk in /Users/prakshal/opt/anaconda3/lib/python3.8/site-packages (from text2emotion) (3.6.1)\n",
      "Requirement already satisfied: emoji>=0.6.0 in /Users/prakshal/opt/anaconda3/lib/python3.8/site-packages (from text2emotion) (1.6.1)\n",
      "Requirement already satisfied: click in /Users/prakshal/opt/anaconda3/lib/python3.8/site-packages (from nltk->text2emotion) (7.1.2)\n",
      "Requirement already satisfied: tqdm in /Users/prakshal/opt/anaconda3/lib/python3.8/site-packages (from nltk->text2emotion) (4.59.0)\n",
      "Requirement already satisfied: joblib in /Users/prakshal/opt/anaconda3/lib/python3.8/site-packages (from nltk->text2emotion) (1.0.1)\n",
      "Requirement already satisfied: regex in /Users/prakshal/opt/anaconda3/lib/python3.8/site-packages (from nltk->text2emotion) (2021.4.4)\n"
     ]
    }
   ],
   "source": [
    "!pip install gender-guesser\n",
    "!pip install nameparser\n",
    "!pip install text2emotion"
   ]
  },
  {
   "cell_type": "code",
   "execution_count": 2,
   "id": "44c722b6",
   "metadata": {},
   "outputs": [
    {
     "name": "stderr",
     "output_type": "stream",
     "text": [
      "[nltk_data] Downloading package stopwords to\n",
      "[nltk_data]     /Users/prakshal/nltk_data...\n",
      "[nltk_data]   Package stopwords is already up-to-date!\n",
      "[nltk_data] Downloading package punkt to /Users/prakshal/nltk_data...\n",
      "[nltk_data]   Package punkt is already up-to-date!\n",
      "[nltk_data] Downloading package wordnet to\n",
      "[nltk_data]     /Users/prakshal/nltk_data...\n",
      "[nltk_data]   Package wordnet is already up-to-date!\n"
     ]
    }
   ],
   "source": [
    "import csv\n",
    "import json\n",
    "import re\n",
    "import pandas as pd\n",
    "import numpy as np\n",
    "import text2emotion as te"
   ]
  },
  {
   "cell_type": "code",
   "execution_count": 3,
   "id": "7a052ecf",
   "metadata": {},
   "outputs": [],
   "source": [
    "import gender_guesser.detector as gender\n",
    "from nameparser import HumanName\n",
    "from dateutil import parser"
   ]
  },
  {
   "cell_type": "code",
   "execution_count": 4,
   "id": "5ab78df2",
   "metadata": {},
   "outputs": [],
   "source": [
    "d = gender.Detector(case_sensitive=False)"
   ]
  },
  {
   "cell_type": "code",
   "execution_count": 21,
   "id": "d6a739f8",
   "metadata": {},
   "outputs": [],
   "source": [
    "def read_csv(filename):\n",
    "    with open(filename) as csvfile:\n",
    "        reader = csv.DictReader(csvfile, delimiter=',')\n",
    "        return list(reader)"
   ]
  },
  {
   "cell_type": "code",
   "execution_count": 22,
   "id": "37193ab9",
   "metadata": {},
   "outputs": [],
   "source": [
    "def sanatize_keywords_old_dataset(test_str):\n",
    "    COMMA_MATCHER = re.compile(r\",(?=(?:[^\\\"']*[\\\"'][^\\\"']*[\\\"'])*[^\\\"']*$)\")\n",
    "    split_result = COMMA_MATCHER.split(test_str)\n",
    "    \n",
    "    # Convert key-value String to dictionary\n",
    "    # Using map() + split() + loop\n",
    "    res = []\n",
    "    for sub in split_result:\n",
    "        if ':' in sub:\n",
    "            res.append(map(str.strip, sub.split(':', 1)))\n",
    "    res = dict(res)\n",
    "    res = {key.replace('\"', ''):val.replace('\"', '') for key, val in res.items()}\n",
    "    return res\n",
    "\n",
    "def sanatize_keywords_new_dataset(test_str):\n",
    "    key_list = eval(test_str)\n",
    "    return dict(key_list)"
   ]
  },
  {
   "cell_type": "code",
   "execution_count": 23,
   "id": "e73fe992",
   "metadata": {},
   "outputs": [],
   "source": [
    "get_new_dataset_contents = read_csv('latest_large_obituary.csv')\n",
    "get_old_dataset_contents = read_csv('Meta.csv')"
   ]
  },
  {
   "cell_type": "code",
   "execution_count": 24,
   "id": "f7dc8efc",
   "metadata": {},
   "outputs": [],
   "source": [
    "distributions_years = {}\n",
    "for person in get_old_dataset_contents:\n",
    "    keywords = sanatize_keywords_old_dataset(person[\"keywords\"])\n",
    "    if(\"persons\" not in keywords):\n",
    "        continue\n",
    "    first_name = HumanName(keywords[\"persons\"].strip('\"')).first\n",
    "    # Get the gender of the person\n",
    "    gender = d.get_gender(first_name)\n",
    "    \n",
    "    \n",
    "    # Get the year when obituary published\n",
    "    year = parser.parse(person[\"pub_date\"].split(\"+\")[0]).year\n",
    "    if(year not in distributions_years):\n",
    "        distributions_years[year] = {\"male\": 0, \"female\": 0, \"unknown\": 0, \"andy\": 0, \"mostly_male\": 0, \"mostly_female\": 0}\n",
    "    distributions_years[year][gender] += 1\n",
    "\n",
    "for person in get_new_dataset_contents:\n",
    "    keywords = sanatize_keywords_new_dataset(person[\"keywords\"])\n",
    "    if(\"persons\" not in keywords):\n",
    "        continue\n",
    "    first_name = HumanName(keywords[\"persons\"].strip('\"')).first\n",
    "    # Get the gender of the person\n",
    "    gender = d.get_gender(first_name)\n",
    "    \n",
    "    \n",
    "    # Get the year when obituary published\n",
    "    year = parser.parse(person[\"pub_date\"].split(\"+\")[0]).year\n",
    "    if(year not in distributions_years):\n",
    "        distributions_years[year] = {\"male\": 0, \"female\": 0, \"unknown\": 0, \"andy\": 0, \"mostly_male\": 0, \"mostly_female\": 0}\n",
    "    distributions_years[year][gender] += 1"
   ]
  },
  {
   "cell_type": "code",
   "execution_count": 25,
   "id": "ee2c652d",
   "metadata": {},
   "outputs": [],
   "source": [
    "dataframe_data = {key : list(value.values()) for key, value in distributions_years.items()}"
   ]
  },
  {
   "cell_type": "code",
   "execution_count": 26,
   "id": "cf208446",
   "metadata": {},
   "outputs": [],
   "source": [
    "plot_data = {'male': [], 'female': [], 'unknown': [], 'andy': [], 'mostly_male': [], 'mostly_female': []}\n",
    "for key, value in distributions_years.items():\n",
    "    for gender, count in value.items():\n",
    "        plot_data[gender].append(count)\n",
    "\n",
    "x_axis = distributions_years.keys()"
   ]
  },
  {
   "cell_type": "code",
   "execution_count": 27,
   "id": "e2aa2ebe",
   "metadata": {},
   "outputs": [],
   "source": [
    "df = pd.DataFrame(data=plot_data, dtype=np.int8)"
   ]
  },
  {
   "cell_type": "code",
   "execution_count": 28,
   "id": "0c8f6b9d",
   "metadata": {},
   "outputs": [
    {
     "data": {
      "image/png": "[encoded data removed]",
      "text/plain": [
       "<Figure size 432x288 with 1 Axes>"
      ]
     },
     "metadata": {
      "needs_background": "light"
     },
     "output_type": "display_data"
    }
   ],
   "source": [
    "df = pd.DataFrame(plot_data, index=x_axis)\n",
    "ax = df.plot.bar(rot=0)"
   ]
  },
  {
   "cell_type": "code",
   "execution_count": 29,
   "id": "b44776a3",
   "metadata": {},
   "outputs": [],
   "source": [
    "df = df.assign(prop_male = (df.male)/(df.male+df.female))"
   ]
  },
  {
   "cell_type": "code",
   "execution_count": 30,
   "id": "86dc5f36",
   "metadata": {},
   "outputs": [
    {
     "data": {
      "image/png": "[encoded data removed]",
      "text/plain": [
       "<Figure size 432x288 with 1 Axes>"
      ]
     },
     "metadata": {
      "needs_background": "light"
     },
     "output_type": "display_data"
    }
   ],
   "source": [
    "ax = df[['prop_male']].plot.bar(rot=0)"
   ]
  },
  {
   "cell_type": "code",
   "execution_count": 31,
   "id": "cb0ba8ec",
   "metadata": {},
   "outputs": [
    {
     "data": {
      "text/plain": [
       "{'Happy': 0.0, 'Angry': 0.0, 'Surprise': 0.0, 'Sad': 0.5, 'Fear': 0.5}"
      ]
     },
     "execution_count": 31,
     "metadata": {},
     "output_type": "execute_result"
    }
   ],
   "source": [
    "text = \"This is so exciting. We are going to NYC!\"\n",
    "te.get_emotion(text)"
   ]
  },
  {
   "cell_type": "code",
   "execution_count": 32,
   "id": "a48976da",
   "metadata": {},
   "outputs": [],
   "source": [
    "df = df.assign(prop_female = (df.female+df.mostly_female)/(df.male+df.female+df.unknown +df.mostly_male))"
   ]
  },
  {
   "cell_type": "code",
   "execution_count": 33,
   "id": "d4765532",
   "metadata": {},
   "outputs": [
    {
     "data": {
      "image/png": "[encoded data removed]",
      "text/plain": [
       "<Figure size 432x288 with 1 Axes>"
      ]
     },
     "metadata": {
      "needs_background": "light"
     },
     "output_type": "display_data"
    }
   ],
   "source": [
    "ax = df[['prop_female']].plot.line(rot=0)"
   ]
  },
  {
   "cell_type": "code",
   "execution_count": null,
   "id": "fb64f2ff",
   "metadata": {},
   "outputs": [],
   "source": []
  }
 ],
 "metadata": {
  "kernelspec": {
   "display_name": "Python 3",
   "language": "python",
   "name": "python3"
  },
  "language_info": {
   "codemirror_mode": {
    "name": "ipython",
    "version": 3
   },
   "file_extension": ".py",
   "mimetype": "text/x-python",
   "name": "python",
   "nbconvert_exporter": "python",
   "pygments_lexer": "ipython3",
   "version": "3.8.8"
  }
 },
 "nbformat": 4,
 "nbformat_minor": 5
}

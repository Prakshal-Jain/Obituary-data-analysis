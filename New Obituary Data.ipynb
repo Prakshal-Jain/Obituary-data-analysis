{
 "cells": [
  {
   "cell_type": "code",
   "execution_count": 52,
   "id": "5e8a436e",
   "metadata": {},
   "outputs": [],
   "source": [
    "import json\n",
    "import csv\n",
    "import requests"
   ]
  },
  {
   "cell_type": "code",
   "execution_count": 167,
   "id": "87e78946",
   "metadata": {},
   "outputs": [],
   "source": [
    "# Variables\n",
    "API_KEY = \"OFo0nWGx5G2oaYkdzge3j3rbArEpgaBr\"\n",
    "Search = \"Obituaries\""
   ]
  },
  {
   "cell_type": "code",
   "execution_count": 168,
   "id": "2f4d66d3",
   "metadata": {},
   "outputs": [],
   "source": [
    "Page = 1\n",
    "Year = 2021"
   ]
  },
  {
   "cell_type": "code",
   "execution_count": null,
   "id": "3717d8d9",
   "metadata": {},
   "outputs": [],
   "source": []
  },
  {
   "cell_type": "code",
   "execution_count": 169,
   "id": "5d699c15",
   "metadata": {},
   "outputs": [],
   "source": [
    "raw_data = []\n",
    "while(Page <= 10):\n",
    "    URL = \"https://api.nytimes.com/svc/search/v2/articlesearch.json?q=\"+Search+\"&api-key=\"+API_KEY+\"&page=\"+str(Page)+\"&begin_date=\"+str(Year)+\"0101\"+\"&end_date=\"+str(Year)+\"1231\"\n",
    "    raw_data += (requests.get(URL)).json()[\"response\"][\"docs\"]\n",
    "    Page += 1"
   ]
  },
  {
   "cell_type": "code",
   "execution_count": 170,
   "id": "b591bd5f",
   "metadata": {},
   "outputs": [],
   "source": [
    "# Function to filter specific key-values\n",
    "def sanatizeData(input_dict):\n",
    "    return {\n",
    "        \"id\": input_dict[\"_id\"],\n",
    "        \"keywords\": [(key[\"name\"], key[\"value\"]) for key in input_dict[\"keywords\"]],\n",
    "        \"pub_date\": input_dict[\"pub_date\"],\n",
    "        \"web_url\": input_dict[\"web_url\"],\n",
    "        \"document_type\": input_dict[\"document_type\"],\n",
    "        \"news_desk\": input_dict[\"news_desk\"],\n",
    "        \"section_name\": input_dict[\"section_name\"],\n",
    "        \"subsection_name\": \"\" if \"subsection_name\" not in input_dict else input_dict[\"subsection_name\"],\n",
    "        \"type_of_material\": input_dict[\"type_of_material\"]\n",
    "    }"
   ]
  },
  {
   "cell_type": "code",
   "execution_count": 171,
   "id": "55fa91ee",
   "metadata": {},
   "outputs": [],
   "source": [
    "filtered_data = []\n",
    "for obituary in raw_data:\n",
    "    filtered_data.append(sanatizeData(obituary))"
   ]
  },
  {
   "cell_type": "code",
   "execution_count": 172,
   "id": "f54138ad",
   "metadata": {},
   "outputs": [],
   "source": [
    "csv_file = open('latest_large_obituary.csv', 'a')\n",
    "csv_writer = csv.writer(csv_file)"
   ]
  },
  {
   "cell_type": "code",
   "execution_count": 173,
   "id": "93538026",
   "metadata": {},
   "outputs": [],
   "source": [
    "count = 0\n",
    " \n",
    "for d in filtered_data:\n",
    "    if count == 0:\n",
    " \n",
    "        # Writing headers of CSV file\n",
    "        header = d.keys()\n",
    "        csv_writer.writerow(header)\n",
    "        count += 1\n",
    " \n",
    "    # Writing data of CSV file\n",
    "    csv_writer.writerow(d.values())\n",
    " \n",
    "csv_file.close()"
   ]
  },
  {
   "cell_type": "code",
   "execution_count": null,
   "id": "e3c1cae3",
   "metadata": {},
   "outputs": [],
   "source": []
  }
 ],
 "metadata": {
  "kernelspec": {
   "display_name": "Python 3",
   "language": "python",
   "name": "python3"
  },
  "language_info": {
   "codemirror_mode": {
    "name": "ipython",
    "version": 3
   },
   "file_extension": ".py",
   "mimetype": "text/x-python",
   "name": "python",
   "nbconvert_exporter": "python",
   "pygments_lexer": "ipython3",
   "version": "3.8.8"
  }
 },
 "nbformat": 4,
 "nbformat_minor": 5
}
